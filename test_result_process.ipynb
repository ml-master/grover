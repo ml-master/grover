{
 "cells": [
  {
   "cell_type": "code",
   "execution_count": 39,
   "metadata": {},
   "outputs": [
    {
     "data": {
      "text/plain": [
       "(3784, 2)"
      ]
     },
     "execution_count": 39,
     "metadata": {},
     "output_type": "execute_result"
    }
   ],
   "source": [
    "import numpy as np\n",
    "\n",
    "test_prob_machine_np = np.load('./discrimination/results/mega/31machine//test-probs.npy')\n",
    "print(test_prob_machine_np.shape)\n",
    "test_prob_human_np = np.load('./discrimination/results/mega/test-probs.npy')\n",
    "print(test_prob_human_np.shape)"
   ]
  },
  {
   "cell_type": "code",
   "execution_count": 40,
   "metadata": {},
   "outputs": [
    {
     "data": {
      "text/plain": [
       "array([[0.95559895, 0.04440108],\n",
       "       [0.35087016, 0.64912987],\n",
       "       [0.00163914, 0.9983608 ],\n",
       "       [0.20768635, 0.79231364],\n",
       "       [0.9966298 , 0.00337021]], dtype=float32)"
      ]
     },
     "execution_count": 40,
     "metadata": {},
     "output_type": "execute_result"
    }
   ],
   "source": [
    "test_prob_machine_np[:5]"
   ]
  },
  {
   "cell_type": "code",
   "execution_count": 47,
   "metadata": {},
   "outputs": [
    {
     "data": {
      "text/plain": [
       "array([0, 1, 1, ..., 0, 1, 1])"
      ]
     },
     "execution_count": 47,
     "metadata": {},
     "output_type": "execute_result"
    }
   ],
   "source": [
    "test_pred_machine_np = test_prob_machine_np.argmax(axis=1)\n",
    "test_pred_human_np = test_prob_human_np.argmax(axis=1)\n",
    "test_pred_machine_np"
   ]
  },
  {
   "cell_type": "code",
   "execution_count": null,
   "metadata": {},
   "outputs": [],
   "source": [
    "test_pred_human_np"
   ]
  },
  {
   "cell_type": "code",
   "execution_count": null,
   "metadata": {},
   "outputs": [],
   "source": [
    "test_pred_all_np = np.concatenate(test_pred_machine_np, test_pred_human_np)"
   ]
  },
  {
   "cell_type": "code",
   "execution_count": 49,
   "metadata": {},
   "outputs": [],
   "source": [
    "# evaluation\n",
    "from sklearn.metrics import confusion_matrix\n",
    "from sklearn.metrics import classification_report\n",
    "from sklearn.metrics import cohen_kappa_score\n",
    "\n",
    "def evaluation(y_true, y_pred):\n",
    "    acc = classification_report(y_true, y_pred, output_dict=True)['accuracy']\n",
    "    s = classification_report(y_true, y_pred, output_dict=True)['weighted avg']\n",
    "    precision = s['precision']\n",
    "    recall = s['recall']\n",
    "    f1_score = s['f1-score']\n",
    "    return acc,precision,recall,f1_score\n"
   ]
  },
  {
   "cell_type": "code",
   "execution_count": 54,
   "metadata": {},
   "outputs": [
    {
     "data": {
      "text/plain": [
       "(3784,)"
      ]
     },
     "execution_count": 54,
     "metadata": {},
     "output_type": "execute_result"
    }
   ],
   "source": [
    "machine_labels = np.zeros(len(test_pred_machine_np))\n",
    "evaluation(machine_labels, test_pred_machine_np)"
   ]
  },
  {
   "cell_type": "code",
   "execution_count": 55,
   "metadata": {},
   "outputs": [
    {
     "data": {
      "text/plain": [
       "(0.6284355179704016, 1.0, 0.6284355179704016, 0.771827328789354)"
      ]
     },
     "execution_count": 55,
     "metadata": {},
     "output_type": "execute_result"
    }
   ],
   "source": [
    "human_labels = np.ones(len(test_pred_human_np))\n",
    "evaluation(human_labels, test_pred_human_np)"
   ]
  }
 ],
 "metadata": {
  "kernelspec": {
   "display_name": "grover",
   "language": "python",
   "name": "python3"
  },
  "language_info": {
   "codemirror_mode": {
    "name": "ipython",
    "version": 3
   },
   "file_extension": ".py",
   "mimetype": "text/x-python",
   "name": "python",
   "nbconvert_exporter": "python",
   "pygments_lexer": "ipython3",
   "version": "3.6.13"
  }
 },
 "nbformat": 4,
 "nbformat_minor": 2
}
