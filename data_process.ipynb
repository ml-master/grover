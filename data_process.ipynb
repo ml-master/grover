{
 "cells": [
  {
   "cell_type": "code",
   "execution_count": 11,
   "metadata": {},
   "outputs": [],
   "source": [
    "import pandas as pd\n",
    "import json"
   ]
  },
  {
   "cell_type": "markdown",
   "metadata": {},
   "source": [
    "# Gossipcop数据集提取与处理"
   ]
  },
  {
   "cell_type": "markdown",
   "metadata": {},
   "source": [
    "目标：提取Gossipcop数据集中的文章和标签，用于Grover的判别模型微调训练或直接检测\n",
    "\n",
    "提取内容：所有人类书写的真实合法文章，以及机器生成的虚假文章，其余暂时均不采用。"
   ]
  },
  {
   "cell_type": "code",
   "execution_count": 12,
   "metadata": {},
   "outputs": [],
   "source": [
    "def json2df(data_filename):\n",
    "    # 从文件中读取 JSON 数据\n",
    "    with open(data_filename, 'r') as file:\n",
    "        data_json = json.load(file)\n",
    "\n",
    "    # 使用 Pandas 将 JSON 数据转换为 DataFrame\n",
    "    data_df = pd.DataFrame.from_dict(data_json, orient='index')\n",
    "    return data_df\n",
    "    \n"
   ]
  },
  {
   "cell_type": "code",
   "execution_count": 13,
   "metadata": {},
   "outputs": [],
   "source": [
    "# load data\n",
    "data_filenames = ['gossipcop_v3-1_style_based_fake.json',\n",
    "                  'gossipcop_v3-2_content_based_fake.json',\n",
    "                  'gossipcop_v3-3_integration_based_fake_tn200.json',\n",
    "                  'gossipcop_v3-4_story_based_fake.json',\n",
    "                  'gossipcop_v3-5_style_based_legitimate.json',\n",
    "                  'gossipcop_v3-7_integration_based_legitimate_tn300.json']\n",
    "\n",
    "gossip_list = []\n",
    "\n",
    "for data_filename in data_filenames:\n",
    "    gossip_data = json2df(data_filename)\n",
    "    gossip_data.reset_index(drop=True, inplace=True)\n",
    "    gossip_list.append(gossip_data)"
   ]
  },
  {
   "cell_type": "code",
   "execution_count": 14,
   "metadata": {},
   "outputs": [
    {
     "name": "stdout",
     "output_type": "stream",
     "text": [
      "<class 'pandas.core.frame.DataFrame'>\n",
      "RangeIndex: 15729 entries, 0 to 15728\n",
      "Data columns (total 7 columns):\n",
      "origin_id          15729 non-null object\n",
      "origin_label       15729 non-null object\n",
      "origin_text        15729 non-null object\n",
      "generated_text     15729 non-null object\n",
      "generated_tone     15729 non-null object\n",
      "generated_label    15729 non-null object\n",
      "has_top_img        15729 non-null int64\n",
      "dtypes: int64(1), object(6)\n",
      "memory usage: 860.3+ KB\n",
      "None\n",
      "<class 'pandas.core.frame.DataFrame'>\n",
      "RangeIndex: 11941 entries, 0 to 11940\n",
      "Data columns (total 5 columns):\n",
      "origin_id              11941 non-null object\n",
      "origin_label           11941 non-null object\n",
      "origin_text            11941 non-null object\n",
      "generated_text_glm4    11941 non-null object\n",
      "has_top_img            11941 non-null int64\n",
      "dtypes: int64(1), object(4)\n",
      "memory usage: 466.5+ KB\n",
      "None\n",
      "<class 'pandas.core.frame.DataFrame'>\n",
      "RangeIndex: 2697 entries, 0 to 2696\n",
      "Data columns (total 8 columns):\n",
      "doc_1_id          2697 non-null object\n",
      "doc_1_label       2697 non-null object\n",
      "doc_1_text        2697 non-null object\n",
      "doc_2_id          2697 non-null object\n",
      "doc_2_label       2697 non-null object\n",
      "doc_2_text        2697 non-null object\n",
      "generated_text    2697 non-null object\n",
      "has_top_img       2697 non-null int64\n",
      "dtypes: int64(1), object(7)\n",
      "memory usage: 168.6+ KB\n",
      "None\n",
      "<class 'pandas.core.frame.DataFrame'>\n",
      "RangeIndex: 15421 entries, 0 to 15420\n",
      "Data columns (total 6 columns):\n",
      "origin_id         15421 non-null object\n",
      "origin_label      15421 non-null object\n",
      "origin_text       15421 non-null object\n",
      "origin_title      15421 non-null object\n",
      "generated_text    15421 non-null object\n",
      "has_top_img       15421 non-null int64\n",
      "dtypes: int64(1), object(5)\n",
      "memory usage: 722.9+ KB\n",
      "None\n",
      "<class 'pandas.core.frame.DataFrame'>\n",
      "RangeIndex: 11945 entries, 0 to 11944\n",
      "Data columns (total 6 columns):\n",
      "origin_id              11945 non-null object\n",
      "origin_label           11945 non-null object\n",
      "origin_text            11945 non-null object\n",
      "generated_label        11945 non-null object\n",
      "generated_text_t015    11945 non-null object\n",
      "has_top_img            11945 non-null int64\n",
      "dtypes: int64(1), object(5)\n",
      "memory usage: 560.0+ KB\n",
      "None\n",
      "<class 'pandas.core.frame.DataFrame'>\n",
      "RangeIndex: 5926 entries, 0 to 5925\n",
      "Data columns (total 11 columns):\n",
      "topic_id              5926 non-null int64\n",
      "topic_words           5926 non-null object\n",
      "doc_1_id              5926 non-null object\n",
      "doc_1_label           5926 non-null object\n",
      "doc_1_text            5926 non-null object\n",
      "doc_2_id              5926 non-null object\n",
      "doc_2_label           5926 non-null object\n",
      "doc_2_text            5926 non-null object\n",
      "generated_label       5926 non-null object\n",
      "generated_text_t01    5926 non-null object\n",
      "has_top_img           5926 non-null int64\n",
      "dtypes: int64(2), object(9)\n",
      "memory usage: 509.3+ KB\n",
      "None\n"
     ]
    }
   ],
   "source": [
    "# save and print info of the data\n",
    "for i in range(len(gossip_list)):\n",
    "    print(gossip_list[i].info())\n",
    "    csv_name = data_filenames[i].replace('json','csv')\n",
    "    gossip_list[i].to_csv(f'./csv/{csv_name}')"
   ]
  },
  {
   "cell_type": "markdown",
   "metadata": {},
   "source": [
    "## 处理v3-1 style based fake"
   ]
  },
  {
   "cell_type": "code",
   "execution_count": 49,
   "metadata": {},
   "outputs": [
    {
     "name": "stdout",
     "output_type": "stream",
     "text": [
      "Index(['origin_id', 'origin_label', 'origin_text', 'generated_text',\n",
      "       'generated_tone', 'generated_label', 'has_top_img'],\n",
      "      dtype='object')\n",
      "['fake' 'legitimate']\n",
      "['fake' 'real']\n"
     ]
    }
   ],
   "source": [
    "print(gossip_list[0].columns)\n",
    "print(gossip_list[0]['origin_label'].unique())\n",
    "print(gossip_list[0]['generated_label'].unique())"
   ]
  },
  {
   "cell_type": "code",
   "execution_count": 81,
   "metadata": {},
   "outputs": [
    {
     "name": "stdout",
     "output_type": "stream",
     "text": [
      "['human']\n"
     ]
    },
    {
     "data": {
      "text/html": [
       "<div>\n",
       "<style scoped>\n",
       "    .dataframe tbody tr th:only-of-type {\n",
       "        vertical-align: middle;\n",
       "    }\n",
       "\n",
       "    .dataframe tbody tr th {\n",
       "        vertical-align: top;\n",
       "    }\n",
       "\n",
       "    .dataframe thead th {\n",
       "        text-align: right;\n",
       "    }\n",
       "</style>\n",
       "<table border=\"1\" class=\"dataframe\">\n",
       "  <thead>\n",
       "    <tr style=\"text-align: right;\">\n",
       "      <th></th>\n",
       "      <th>article</th>\n",
       "      <th>label</th>\n",
       "      <th>split</th>\n",
       "    </tr>\n",
       "  </thead>\n",
       "  <tbody>\n",
       "    <tr>\n",
       "      <th>0</th>\n",
       "      <td>Born and raised in the Philippines, Lea Salong...</td>\n",
       "      <td>human</td>\n",
       "      <td>test</td>\n",
       "    </tr>\n",
       "    <tr>\n",
       "      <th>1</th>\n",
       "      <td>We love all the Disney Princesses, but we're a...</td>\n",
       "      <td>human</td>\n",
       "      <td>test</td>\n",
       "    </tr>\n",
       "    <tr>\n",
       "      <th>2</th>\n",
       "      <td>Source: Angela George/CC BY-SA 3.0\\n\\nOne of m...</td>\n",
       "      <td>human</td>\n",
       "      <td>test</td>\n",
       "    </tr>\n",
       "    <tr>\n",
       "      <th>3</th>\n",
       "      <td>The boyfriend of Los Angeles police officer-tu...</td>\n",
       "      <td>human</td>\n",
       "      <td>test</td>\n",
       "    </tr>\n",
       "    <tr>\n",
       "      <th>4</th>\n",
       "      <td>James Woods has received a letter that he can ...</td>\n",
       "      <td>human</td>\n",
       "      <td>test</td>\n",
       "    </tr>\n",
       "  </tbody>\n",
       "</table>\n",
       "</div>"
      ],
      "text/plain": [
       "                                             article  label split\n",
       "0  Born and raised in the Philippines, Lea Salong...  human  test\n",
       "1  We love all the Disney Princesses, but we're a...  human  test\n",
       "2  Source: Angela George/CC BY-SA 3.0\\n\\nOne of m...  human  test\n",
       "3  The boyfriend of Los Angeles police officer-tu...  human  test\n",
       "4  James Woods has received a letter that he can ...  human  test"
      ]
     },
     "execution_count": 81,
     "metadata": {},
     "output_type": "execute_result"
    }
   ],
   "source": [
    "# 创建一个新的 DataFrame，将 origin_text 和 generated_text 合并为 article 列\n",
    "origin_df = gossip_list[0][['origin_text', 'origin_label']].rename(columns={'origin_text': 'article', 'origin_label': 'label'})\n",
    "origin_df = origin_df.loc[origin_df['label']=='legitimate']\n",
    "origin_df['label'] = 'human'\n",
    "generated_df = gossip_list[0][['generated_text', 'generated_label']].rename(columns={'generated_text': 'article', 'generated_label': 'label'})\n",
    "generated_df = generated_df.loc[generated_df['label']=='fake']\n",
    "generated_df['label'] = 'machine'\n",
    "\n",
    "# 合并两个 DataFrame\n",
    "combined_df = pd.concat([origin_df, generated_df], ignore_index=True)\n",
    "print(combined_df['label'].unique())\n",
    "combined_df['split'] = 'test'\n",
    "combined_df.head()"
   ]
  },
  {
   "cell_type": "code",
   "execution_count": 82,
   "metadata": {},
   "outputs": [],
   "source": [
    "# 将 DataFrame 转换为 JSON Lines 格式\n",
    "json_lines = combined_df.to_json(orient='records', lines=True)\n",
    "\n",
    "# 将 JSON Lines 保存为文件\n",
    "with open('output_all_test_1_human.jsonl', 'w') as file:\n",
    "    file.write(json_lines)"
   ]
  },
  {
   "cell_type": "markdown",
   "metadata": {},
   "source": [
    "## 处理v3-2 content based fake\n",
    "由原始文本改变内容生成假新闻"
   ]
  },
  {
   "cell_type": "code",
   "execution_count": 46,
   "metadata": {},
   "outputs": [
    {
     "name": "stdout",
     "output_type": "stream",
     "text": [
      "Index(['origin_id', 'origin_label', 'origin_text', 'generated_text_glm4',\n",
      "       'has_top_img'],\n",
      "      dtype='object')\n",
      "['legitimate']\n"
     ]
    }
   ],
   "source": [
    "print(gossip_list[1].columns)\n",
    "print(gossip_list[1]['origin_label'].unique())"
   ]
  },
  {
   "cell_type": "code",
   "execution_count": 58,
   "metadata": {},
   "outputs": [
    {
     "name": "stdout",
     "output_type": "stream",
     "text": [
      "['human' 'machine']\n"
     ]
    },
    {
     "data": {
      "text/html": [
       "<div>\n",
       "<style scoped>\n",
       "    .dataframe tbody tr th:only-of-type {\n",
       "        vertical-align: middle;\n",
       "    }\n",
       "\n",
       "    .dataframe tbody tr th {\n",
       "        vertical-align: top;\n",
       "    }\n",
       "\n",
       "    .dataframe thead th {\n",
       "        text-align: right;\n",
       "    }\n",
       "</style>\n",
       "<table border=\"1\" class=\"dataframe\">\n",
       "  <thead>\n",
       "    <tr style=\"text-align: right;\">\n",
       "      <th></th>\n",
       "      <th>article</th>\n",
       "      <th>label</th>\n",
       "      <th>split</th>\n",
       "    </tr>\n",
       "  </thead>\n",
       "  <tbody>\n",
       "    <tr>\n",
       "      <th>0</th>\n",
       "      <td>Born and raised in the Philippines, Lea Salong...</td>\n",
       "      <td>human</td>\n",
       "      <td>test</td>\n",
       "    </tr>\n",
       "    <tr>\n",
       "      <th>1</th>\n",
       "      <td>We love all the Disney Princesses, but we're a...</td>\n",
       "      <td>human</td>\n",
       "      <td>test</td>\n",
       "    </tr>\n",
       "    <tr>\n",
       "      <th>2</th>\n",
       "      <td>Source: Angela George/CC BY-SA 3.0\\n\\nOne of m...</td>\n",
       "      <td>human</td>\n",
       "      <td>test</td>\n",
       "    </tr>\n",
       "    <tr>\n",
       "      <th>3</th>\n",
       "      <td>The boyfriend of Los Angeles police officer-tu...</td>\n",
       "      <td>human</td>\n",
       "      <td>test</td>\n",
       "    </tr>\n",
       "    <tr>\n",
       "      <th>4</th>\n",
       "      <td>James Woods has received a letter that he can ...</td>\n",
       "      <td>human</td>\n",
       "      <td>test</td>\n",
       "    </tr>\n",
       "  </tbody>\n",
       "</table>\n",
       "</div>"
      ],
      "text/plain": [
       "                                             article  label split\n",
       "0  Born and raised in the Philippines, Lea Salong...  human  test\n",
       "1  We love all the Disney Princesses, but we're a...  human  test\n",
       "2  Source: Angela George/CC BY-SA 3.0\\n\\nOne of m...  human  test\n",
       "3  The boyfriend of Los Angeles police officer-tu...  human  test\n",
       "4  James Woods has received a letter that he can ...  human  test"
      ]
     },
     "execution_count": 58,
     "metadata": {},
     "output_type": "execute_result"
    }
   ],
   "source": [
    "# 创建一个新的 DataFrame，将 origin_text 和 generated_text 合并为 article 列\n",
    "origin_df_1 = gossip_list[1][['origin_text', 'origin_label']].rename(columns={'origin_text': 'article', 'origin_label': 'label'})\n",
    "# origin_df_1 = origin_df_1.loc[origin_df_1['label']=='real']\n",
    "origin_df_1['label'] = 'human'\n",
    "generated_df_1 = gossip_list[1][['generated_text_glm4']].rename(columns={'generated_text_glm4': 'article'})\n",
    "# generated_df = generated_df.loc[generated_df['label']=='fake']\n",
    "generated_df_1['label'] = 'machine'\n",
    "\n",
    "# 合并两个 DataFrame\n",
    "combined_df_1 = pd.concat([origin_df_1, generated_df_1], ignore_index=True)\n",
    "\n",
    "print(combined_df_1['label'].unique())\n",
    "combined_df_1['split'] = 'test'\n",
    "combined_df_1.head()"
   ]
  },
  {
   "cell_type": "code",
   "execution_count": 59,
   "metadata": {},
   "outputs": [],
   "source": [
    "# 将 DataFrame 转换为 JSON Lines 格式\n",
    "json_lines_1 = combined_df_1.to_json(orient='records', lines=True)\n",
    "\n",
    "# 将 JSON Lines 保存为文件\n",
    "with open('output_all_test_2.jsonl', 'w') as file:\n",
    "    file.write(json_lines_1)"
   ]
  },
  {
   "cell_type": "markdown",
   "metadata": {},
   "source": [
    "## 处理v3-3 integration based fake"
   ]
  },
  {
   "cell_type": "code",
   "execution_count": 60,
   "metadata": {},
   "outputs": [
    {
     "name": "stdout",
     "output_type": "stream",
     "text": [
      "Index(['doc_1_id', 'doc_1_label', 'doc_1_text', 'doc_2_id', 'doc_2_label',\n",
      "       'doc_2_text', 'generated_text', 'has_top_img'],\n",
      "      dtype='object')\n",
      "['legitimate']\n",
      "['fake']\n"
     ]
    }
   ],
   "source": [
    "print(gossip_list[2].columns)\n",
    "print(gossip_list[2]['doc_1_label'].unique())\n",
    "print(gossip_list[2]['doc_2_label'].unique())"
   ]
  },
  {
   "cell_type": "code",
   "execution_count": 61,
   "metadata": {},
   "outputs": [
    {
     "name": "stdout",
     "output_type": "stream",
     "text": [
      "['human' 'machine']\n"
     ]
    },
    {
     "data": {
      "text/html": [
       "<div>\n",
       "<style scoped>\n",
       "    .dataframe tbody tr th:only-of-type {\n",
       "        vertical-align: middle;\n",
       "    }\n",
       "\n",
       "    .dataframe tbody tr th {\n",
       "        vertical-align: top;\n",
       "    }\n",
       "\n",
       "    .dataframe thead th {\n",
       "        text-align: right;\n",
       "    }\n",
       "</style>\n",
       "<table border=\"1\" class=\"dataframe\">\n",
       "  <thead>\n",
       "    <tr style=\"text-align: right;\">\n",
       "      <th></th>\n",
       "      <th>article</th>\n",
       "      <th>label</th>\n",
       "      <th>split</th>\n",
       "    </tr>\n",
       "  </thead>\n",
       "  <tbody>\n",
       "    <tr>\n",
       "      <th>0</th>\n",
       "      <td>Do you feel it in your fingers? Do you feel it...</td>\n",
       "      <td>human</td>\n",
       "      <td>test</td>\n",
       "    </tr>\n",
       "    <tr>\n",
       "      <th>1</th>\n",
       "      <td>The dispute between Kesha Rose Sebert and her ...</td>\n",
       "      <td>human</td>\n",
       "      <td>test</td>\n",
       "    </tr>\n",
       "    <tr>\n",
       "      <th>2</th>\n",
       "      <td>Getty  'They feel like their family is complet...</td>\n",
       "      <td>human</td>\n",
       "      <td>test</td>\n",
       "    </tr>\n",
       "    <tr>\n",
       "      <th>3</th>\n",
       "      <td>What is Reza Farahan's Net Worth and Salary?  ...</td>\n",
       "      <td>human</td>\n",
       "      <td>test</td>\n",
       "    </tr>\n",
       "    <tr>\n",
       "      <th>4</th>\n",
       "      <td>Update (September 21, 2:50 P.M.): A source clo...</td>\n",
       "      <td>human</td>\n",
       "      <td>test</td>\n",
       "    </tr>\n",
       "  </tbody>\n",
       "</table>\n",
       "</div>"
      ],
      "text/plain": [
       "                                             article  label split\n",
       "0  Do you feel it in your fingers? Do you feel it...  human  test\n",
       "1  The dispute between Kesha Rose Sebert and her ...  human  test\n",
       "2  Getty  'They feel like their family is complet...  human  test\n",
       "3  What is Reza Farahan's Net Worth and Salary?  ...  human  test\n",
       "4  Update (September 21, 2:50 P.M.): A source clo...  human  test"
      ]
     },
     "execution_count": 61,
     "metadata": {},
     "output_type": "execute_result"
    }
   ],
   "source": [
    "# 创建一个新的 DataFrame，将 origin_text 和 generated_text 合并为 article 列\n",
    "origin_df_2 = gossip_list[2][['doc_1_text', 'doc_1_label']].rename(columns={'doc_1_text': 'article', 'doc_1_label': 'label'})\n",
    "origin_df_2 = origin_df_2.loc[origin_df_2['label']=='legitimate']\n",
    "origin_df_2['label'] = 'human'\n",
    "generated_df_2 = gossip_list[2][['generated_text']].rename(columns={'generated_text': 'article'})\n",
    "# generated_df = generated_df.loc[generated_df['label']=='fake']\n",
    "generated_df_2['label'] = 'machine'\n",
    "\n",
    "# 合并两个 DataFrame\n",
    "combined_df_2 = pd.concat([origin_df_2, generated_df_2], ignore_index=True)\n",
    "\n",
    "print(combined_df_2['label'].unique())\n",
    "combined_df_2['split'] = 'test'\n",
    "combined_df_2.head()"
   ]
  },
  {
   "cell_type": "code",
   "execution_count": 62,
   "metadata": {},
   "outputs": [],
   "source": [
    "# 将 DataFrame 转换为 JSON Lines 格式\n",
    "json_lines_2 = combined_df_2.to_json(orient='records', lines=True)\n",
    "\n",
    "# 将 JSON Lines 保存为文件\n",
    "with open('output_all_test_3.jsonl', 'w') as file:\n",
    "    file.write(json_lines_2)"
   ]
  },
  {
   "cell_type": "markdown",
   "metadata": {},
   "source": [
    "## 处理v3-4 story based fake"
   ]
  },
  {
   "cell_type": "code",
   "execution_count": 63,
   "metadata": {},
   "outputs": [
    {
     "name": "stdout",
     "output_type": "stream",
     "text": [
      "Index(['origin_id', 'origin_label', 'origin_text', 'origin_title',\n",
      "       'generated_text', 'has_top_img'],\n",
      "      dtype='object')\n",
      "['fake' 'real']\n"
     ]
    }
   ],
   "source": [
    "print(gossip_list[3].columns)\n",
    "print(gossip_list[3]['origin_label'].unique())"
   ]
  },
  {
   "cell_type": "code",
   "execution_count": 64,
   "metadata": {},
   "outputs": [
    {
     "name": "stdout",
     "output_type": "stream",
     "text": [
      "['human' 'machine']\n"
     ]
    },
    {
     "data": {
      "text/html": [
       "<div>\n",
       "<style scoped>\n",
       "    .dataframe tbody tr th:only-of-type {\n",
       "        vertical-align: middle;\n",
       "    }\n",
       "\n",
       "    .dataframe tbody tr th {\n",
       "        vertical-align: top;\n",
       "    }\n",
       "\n",
       "    .dataframe thead th {\n",
       "        text-align: right;\n",
       "    }\n",
       "</style>\n",
       "<table border=\"1\" class=\"dataframe\">\n",
       "  <thead>\n",
       "    <tr style=\"text-align: right;\">\n",
       "      <th></th>\n",
       "      <th>article</th>\n",
       "      <th>label</th>\n",
       "      <th>split</th>\n",
       "    </tr>\n",
       "  </thead>\n",
       "  <tbody>\n",
       "    <tr>\n",
       "      <th>0</th>\n",
       "      <td>Born and raised in the Philippines, Lea Salong...</td>\n",
       "      <td>human</td>\n",
       "      <td>test</td>\n",
       "    </tr>\n",
       "    <tr>\n",
       "      <th>1</th>\n",
       "      <td>We love all the Disney Princesses, but we're a...</td>\n",
       "      <td>human</td>\n",
       "      <td>test</td>\n",
       "    </tr>\n",
       "    <tr>\n",
       "      <th>2</th>\n",
       "      <td>Source: Angela George/CC BY-SA 3.0\\n\\nOne of m...</td>\n",
       "      <td>human</td>\n",
       "      <td>test</td>\n",
       "    </tr>\n",
       "    <tr>\n",
       "      <th>3</th>\n",
       "      <td>The boyfriend of Los Angeles police officer-tu...</td>\n",
       "      <td>human</td>\n",
       "      <td>test</td>\n",
       "    </tr>\n",
       "    <tr>\n",
       "      <th>4</th>\n",
       "      <td>James Woods has received a letter that he can ...</td>\n",
       "      <td>human</td>\n",
       "      <td>test</td>\n",
       "    </tr>\n",
       "  </tbody>\n",
       "</table>\n",
       "</div>"
      ],
      "text/plain": [
       "                                             article  label split\n",
       "0  Born and raised in the Philippines, Lea Salong...  human  test\n",
       "1  We love all the Disney Princesses, but we're a...  human  test\n",
       "2  Source: Angela George/CC BY-SA 3.0\\n\\nOne of m...  human  test\n",
       "3  The boyfriend of Los Angeles police officer-tu...  human  test\n",
       "4  James Woods has received a letter that he can ...  human  test"
      ]
     },
     "execution_count": 64,
     "metadata": {},
     "output_type": "execute_result"
    }
   ],
   "source": [
    "# 创建一个新的 DataFrame，将 origin_text 和 generated_text 合并为 article 列\n",
    "origin_df_3 = gossip_list[3][['origin_text', 'origin_label']].rename(columns={'origin_text': 'article', 'origin_label': 'label'})\n",
    "origin_df_3 = origin_df_3.loc[origin_df_3['label']=='real']\n",
    "origin_df_3['label'] = 'human'\n",
    "generated_df_3 = gossip_list[3][['generated_text']].rename(columns={'generated_text': 'article'})\n",
    "# generated_df = generated_df.loc[generated_df['label']=='fake']\n",
    "generated_df_3['label'] = 'machine'\n",
    "\n",
    "# 合并两个 DataFrame\n",
    "combined_df_3 = pd.concat([origin_df_3, generated_df_3], ignore_index=True)\n",
    "\n",
    "print(combined_df_3['label'].unique())\n",
    "combined_df_3['split'] = 'test'\n",
    "combined_df_3.head()"
   ]
  },
  {
   "cell_type": "code",
   "execution_count": 65,
   "metadata": {},
   "outputs": [],
   "source": [
    "# 将 DataFrame 转换为 JSON Lines 格式\n",
    "json_lines_3 = combined_df_3.to_json(orient='records', lines=True)\n",
    "\n",
    "# 将 JSON Lines 保存为文件\n",
    "with open('output_all_test_4.jsonl', 'w') as file:\n",
    "    file.write(json_lines_3)"
   ]
  },
  {
   "cell_type": "markdown",
   "metadata": {},
   "source": [
    "## 合并与去重"
   ]
  },
  {
   "cell_type": "code",
   "execution_count": 73,
   "metadata": {},
   "outputs": [
    {
     "name": "stdout",
     "output_type": "stream",
     "text": [
      "60224\n"
     ]
    }
   ],
   "source": [
    "combined_df_all = pd.concat([combined_df, combined_df_1, combined_df_2, combined_df_3], ignore_index=True)\n",
    "print(len(combined_df_all))"
   ]
  },
  {
   "cell_type": "code",
   "execution_count": 71,
   "metadata": {},
   "outputs": [
    {
     "name": "stdout",
     "output_type": "stream",
     "text": [
      "47413\n"
     ]
    }
   ],
   "source": [
    "norepeat_combined_df_all = combined_df_all.drop_duplicates(subset=['article', 'label'], keep='first')\n",
    "print(len(norepeat_combined_df_all))"
   ]
  },
  {
   "cell_type": "code",
   "execution_count": 76,
   "metadata": {},
   "outputs": [],
   "source": [
    "# 保存csv\n",
    "norepeat_combined_df_all.to_csv('gossip_all_test_combined_norepeat.csv')\n",
    "\n",
    "# 将 DataFrame 转换为 JSON Lines 格式\n",
    "json_lines_all = norepeat_combined_df_all.to_json(orient='records', lines=True)\n",
    "# 将 JSON Lines 保存为文件\n",
    "with open('gossip_all_test_combined_norepeat.jsonl', 'w') as file:\n",
    "    file.write(json_lines_all)"
   ]
  }
 ],
 "metadata": {
  "kernelspec": {
   "display_name": "grover",
   "language": "python",
   "name": "python3"
  },
  "language_info": {
   "codemirror_mode": {
    "name": "ipython",
    "version": 3
   },
   "file_extension": ".py",
   "mimetype": "text/x-python",
   "name": "python",
   "nbconvert_exporter": "python",
   "pygments_lexer": "ipython3",
   "version": "3.6.13"
  }
 },
 "nbformat": 4,
 "nbformat_minor": 2
}
